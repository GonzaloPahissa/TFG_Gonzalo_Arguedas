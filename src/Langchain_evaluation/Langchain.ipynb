{
 "cells": [
  {
   "cell_type": "markdown",
   "metadata": {},
   "source": [
    "Importamos las librerias necesarias para el desarrollo del proyecto"
   ]
  },
  {
   "cell_type": "code",
   "execution_count": 24,
   "metadata": {},
   "outputs": [],
   "source": [
    "import os\n",
    "from dotenv import load_dotenv\n",
    "from PyPDF2 import PdfReader\n",
    "from langchain.document_loaders import TextLoader\n",
    "from langchain.chains import RetrievalQA\n",
    "from langchain.embeddings import OpenAIEmbeddings\n",
    "from langchain.vectorstores import FAISS\n",
    "from langchain_community.chat_models import ChatOpenAI\n",
    "from sklearn.metrics.pairwise import cosine_similarity\n",
    "import numpy as np\n",
    "import matplotlib.pyplot as plt\n"
   ]
  },
  {
   "cell_type": "markdown",
   "metadata": {},
   "source": [
    "Cargamos la API de OpenAI de manera confidencial "
   ]
  },
  {
   "cell_type": "code",
   "execution_count": 25,
   "metadata": {},
   "outputs": [
    {
     "name": "stdout",
     "output_type": "stream",
     "text": [
      "API Key cargada correctamente.\n"
     ]
    }
   ],
   "source": [
    "load_dotenv()\n",
    "api_key = os.getenv('OPENAI_API_KEY')\n",
    "\n",
    "if api_key:\n",
    "    print(\"API Key cargada correctamente.\")\n",
    "else:\n",
    "    raise ValueError(\"No se ha encontrado la API Key en el archivo .env\")\n",
    "\n",
    "# Configurar la clave de API de OpenAI\n",
    "os.environ[\"OPENAI_API_KEY\"] = api_key"
   ]
  },
  {
   "cell_type": "markdown",
   "metadata": {},
   "source": [
    "Cargamos el documento sobre el ue vamos a trabajar y posteriormente mostramos el contenido"
   ]
  },
  {
   "cell_type": "code",
   "execution_count": 26,
   "metadata": {},
   "outputs": [
    {
     "name": "stdout",
     "output_type": "stream",
     "text": [
      "Contenido del documento:\n",
      "How to Become a Straight-A Student \n",
      "Summary\n",
      "By  Cal Newport\n",
      "When you close your eyes and imagine a straight-A student, you\n",
      "probably picture someone who studies for a long time and has very little\n",
      "social life, or someone who is annoyingly and naturally gifted.\n",
      "How to Become a Straight-A Student is a fun, pragmatic look at succeeding,\n",
      "while also enjoying college life.You don't need to grind hard or be\n",
      "naturally talented to excel, and Newport's research shows that straight-A\n",
      "students have numerous \n"
     ]
    }
   ],
   "source": [
    "def extract_text_from_pdf(pdf_path):\n",
    "    try:\n",
    "        reader = PdfReader(pdf_path)\n",
    "        text = \"\"\n",
    "        for page in reader.pages:\n",
    "            page_text = page.extract_text()\n",
    "            if page_text:\n",
    "                text += page_text\n",
    "        if not text:\n",
    "            raise ValueError(\"El texto extraído del PDF está vacío.\")\n",
    "        return text\n",
    "    except Exception as e:\n",
    "        print(f\"Error al extraer texto del PDF: {e}\")\n",
    "        return \"\"\n",
    "\n",
    "\n",
    "# Ruta al documento PDF\n",
    "pdf_path = \"C:\\\\Users\\\\gonzalo.arguedas\\\\Project\\\\TFG\\\\Langchain_evaluation\\\\How to Become a Straight-A Student.pdf\"\n",
    "\n",
    "# Extraer texto del documento PDF\n",
    "document_text = extract_text_from_pdf(pdf_path)\n",
    "\n",
    "# Guardar el texto extraído en un archivo temporal\n",
    "with open(\"temp_document.txt\", \"w\", encoding=\"utf-8\") as f:\n",
    "    f.write(document_text)\n",
    "\n",
    "# Cargar el texto del documento\n",
    "document_loader = TextLoader(\"temp_document.txt\")\n",
    "documents = document_loader.load()\n",
    "\n",
    "# Mostrar el contenido del documento (primeros 500 caracteres)\n",
    "print(\"Contenido del documento:\")\n",
    "print(documents[0].page_content[:500])"
   ]
  },
  {
   "cell_type": "markdown",
   "metadata": {},
   "source": [
    "A continuación hemos realizado lo siguiente:\n",
    "\n",
    "- Crear embeddings con OpenAI: Se generan representaciones vectoriales de los documentos utilizando la clase OpenAIEmbeddings, lo que permite convertir texto en vectores numéricos en un espacio de alta dimensión.\n",
    "\n",
    "- Indexar los documentos utilizando FAISS: Se utiliza la biblioteca FAISS para indexar estos vectores en un almacén de vectores, lo que facilita búsquedas rápidas y eficientes basadas en similitud.\n",
    "\n",
    "- Configurar el recuperador: Se configura un recuperador a partir del almacén de vectores, permitiendo recuperar documentos relevantes basados en la similitud de sus embeddings con las consultas realizadas."
   ]
  },
  {
   "cell_type": "code",
   "execution_count": 27,
   "metadata": {},
   "outputs": [],
   "source": [
    "embeddings = OpenAIEmbeddings()\n",
    "\n",
    "vector_store = FAISS.from_documents(documents, embeddings)\n",
    "\n",
    "retriever = vector_store.as_retriever()"
   ]
  },
  {
   "cell_type": "markdown",
   "metadata": {},
   "source": [
    "Se crea un modelo de lenguaje utilizando ChatOpenAI con el modelo \"gpt-3.5-turbo\" y la clave de API proporcionada. A continuación, se configura una cadena de preguntas y respuestas (qa_chain) con la clase RetrievalQA, utilizando el modelo de lenguaje y un recuperador. La cadena de tipo \"stuff\" gestiona la interacción entre el modelo y el recuperador para responder preguntas basadas en el contenido de los documentos indexados."
   ]
  },
  {
   "cell_type": "code",
   "execution_count": 30,
   "metadata": {},
   "outputs": [],
   "source": [
    "# Crear el modelo de lenguaje OpenAI\n",
    "llm = ChatOpenAI(api_key=api_key, model_name=\"gpt-4-turbo\")\n",
    "\n",
    "# Configurar la cadena de preguntas y respuestas\n",
    "qa_chain = RetrievalQA.from_chain_type(\n",
    "    llm=llm,\n",
    "    chain_type=\"stuff\",  # Utilizando el tipo de cadena 'stuff'\n",
    "    retriever=retriever\n",
    ")"
   ]
  },
  {
   "cell_type": "markdown",
   "metadata": {},
   "source": [
    "A continuación se realizan una serie de preguntas para el documento el cual se esta trabjando"
   ]
  },
  {
   "cell_type": "code",
   "execution_count": 31,
   "metadata": {},
   "outputs": [
    {
     "name": "stdout",
     "output_type": "stream",
     "text": [
      "Pregunta: ¿Cuál es el tema principal del documento?\n",
      "Respuesta: El tema principal del documento es cómo convertirse en un estudiante de calificaciones sobresalientes en la universidad empleando estrategias efectivas y eficientes de estudio y aprendizaje, sin necesidad de sacrificar la vida social o sufrir estrés excesivo. El libro \"How to Become a Straight-A Student\" de Cal Newport propone métodos para trabajar de manera más inteligente, no más dura, enfocándose en la intensidad y la calidad del estudio en lugar de la cantidad de tiempo dedicado a estudiar.\n",
      "\n",
      "Pregunta: ¿Qué datos específicos se mencionan en el segundo párrafo?\n",
      "Respuesta: En el segundo párrafo del resumen del libro \"How to Become a Straight-A Student\" de Cal Newport, se menciona que Newport estudió en Dartmouth y trabajó arduamente durante su primer año, pero sin obtener los resultados deseados. Esto lo llevó a reevaluar sus métodos de aprendizaje y adoptar nuevas estrategias y técnicas para optimizar su estudio. También se menciona que conoció a otros estudiantes con calificaciones sobresalientes a través de la sociedad de honor, y aprendió aspectos importantes sobre lo que constituye un estudiante bien redondeado.\n",
      "\n",
      "Pregunta: Proporcione un resumen del documento.\n",
      "Respuesta: El libro \"How to Become a Straight-A Student\" de Cal Newport ofrece un enfoque pragmático y agradable para lograr el éxito académico sin sacrificar la vida social durante la universidad. Contrario a la creencia popular de que se necesita estudiar arduamente por largas horas, Newport descubre a través de su investigación y entrevistas con estudiantes de alto rendimiento que las estrategias y técnicas efectivas son claves para estudiar de manera inteligente y no más dura. El texto se divide en tres partes principales: cómo estudiar, cómo rendir en los exámenes, y cómo escribir ensayos y trabajos de mejor calidad.\n",
      "\n",
      "Newport introduce el concepto de \"trabajo real\" frente al \"pseudo-trabajo\" y enfatiza la importancia de la intensidad sobre la cantidad de tiempo dedicado al estudio. Propone una fórmula, W = T x I (donde T es tiempo e I es intensidad), para maximizar la productividad. Además, aborda la procrastinación como un obstáculo común, sugiriendo métodos para manejarla efectivamente mediante la responsabilidad personal y una rutina estructurada.\n",
      "\n",
      "El autor también proporciona consejos prácticos sobre la preparación para exámenes, seleccionando estrategias para identificar los temas más relevantes y cómo abordar diferentes tipos de materias. Finalmente, Newport discute la escritura de ensayos y trabajos, destacando la importancia de elegir temas de interés, realizar investigaciones adecuadas y la revisión exhaustiva.\n",
      "\n",
      "En resumen, Newport ofrece un manual para aprender a aprender de manera eficiente y disfrutar del proceso educativo, preparando a los estudiantes no solo para sobresalir académicamente sino también para aplicar estas habilidades en el mundo real.\n",
      "\n",
      "Pregunta: ¿Hay alguna información contradictoria en el texto?\n",
      "Respuesta: No, no parece haber información contradictoria en el texto proporcionado. El texto es coherente en su mensaje sobre cómo convertirse en un estudiante de calificaciones altas a través de técnicas y estrategias eficientes de estudio, manejo del tiempo y enfoque en la intensidad del trabajo en lugar de la cantidad de tiempo dedicado al estudio. Cal Newport enfatiza consistentemente la importancia de trabajar de manera inteligente, no dura, y proporciona varios consejos sobre cómo manejar la procrastinación, mejorar la eficacia del estudio y prepararse para los exámenes y redacción de ensayos. Todo esto está alineado con la premisa central del libro de mejorar el rendimiento académico sin sacrificar el bienestar o la vida social.\n",
      "\n",
      "Pregunta: ¿Qué conclusiones se pueden extraer del documento?\n",
      "Respuesta: Las conclusiones principales del libro \"How to Become a Straight-A Student\" de Cal Newport son las siguientes:\n",
      "\n",
      "1. **Trabajar de manera inteligente, no dura**: Newport desafía la noción de que se necesita estudiar durante largas horas para obtener excelentes calificaciones. En su lugar, promueve la idea de que el trabajo intenso y enfocado es más efectivo que simplemente pasar tiempo en el estudio.\n",
      "\n",
      "2. **Fórmula para el éxito**: La fórmula que Newport sugiere, W = T x I (trabajo = tiempo x intensidad), indica que la intensidad con la que se estudia es más crucial que la cantidad de tiempo dedicado.\n",
      "\n",
      "3. **Evitar la procrastinación**: Newport no ofrece una solución mágica para vencer la procrastinación, sino que recomienda estrategias prácticas para manejarla, como la auto-responsabilidad y la estructuración del tiempo de estudio.\n",
      "\n",
      "4. **Importancia de la preparación para exámenes**: Ser estratégico sobre lo que se estudia y cómo se estudia es vital. Newport sugiere identificar los temas más relevantes y practicar activamente el material, en lugar de solo releer apuntes.\n",
      "\n",
      "5. **Escribir ensayos efectivos**: Se anima a los estudiantes a elegir temas que les interesen genuinamente y a estructurar su proceso de escritura. Newport enfatiza la importancia de la edición y revisión para mejorar la calidad de los ensayos.\n",
      "\n",
      "6. **Balance entre estudio y vida social**: El libro recalca que es posible obtener excelentes calificaciones mientras se disfruta de la vida universitaria, equilibrando el estudio con otras actividades.\n",
      "\n",
      "7. **Desarrollar disciplina y enfoque**: Estas habilidades son fundamentales no solo para el éxito académico, sino también para el éxito profesional futuro.\n",
      "\n",
      "En resumen, Newport ofrece un enfoque pragmático y accesible para lograr el éxito académico, subrayando la importancia de la calidad del estudio sobre la cantidad, y proporcionando estrategias concretas para mejorar la eficacia del estudio y manejar desafíos comunes como la procrastinación y la gestión del tiempo.\n",
      "\n"
     ]
    }
   ],
   "source": [
    "# Ejemplos de preguntas\n",
    "preguntas = [\n",
    "    \"¿Cuál es el tema principal del documento?\",\n",
    "    \"¿Qué datos específicos se mencionan en el segundo párrafo?\",\n",
    "    \"Proporcione un resumen del documento.\",\n",
    "    \"¿Hay alguna información contradictoria en el texto?\",\n",
    "    \"¿Qué conclusiones se pueden extraer del documento?\"\n",
    "]\n",
    "\n",
    "# Realizar preguntas y obtener respuestas\n",
    "for pregunta in preguntas:\n",
    "    respuesta = qa_chain.run({\"query\": pregunta})\n",
    "    print(f\"Pregunta: {pregunta}\")\n",
    "    print(f\"Respuesta: {respuesta}\\n\")\n"
   ]
  },
  {
   "cell_type": "markdown",
   "metadata": {},
   "source": [
    "Este documento describe el proceso de evaluación de la precisión de las respuestas generadas por un modelo de lenguaje utilizando similitud coseno. El objetivo es determinar si las respuestas proporcionadas por el modelo son precisas en relación con el contenido del documento.\n",
    "\n",
    "**Proceso para Evaluar la Precisión Usando Similitud Coseno**\n",
    "\n",
    "1. **Generación de Embeddings**:\n",
    "   - Convertir tanto la respuesta generada por el modelo como el texto relevante del documento en vectores numéricos (embeddings).\n",
    "   - Los embeddings son representaciones en un espacio vectorial de los textos, donde textos similares están más cercanos entre sí.\n",
    "\n",
    "2. **Cálculo de la Similitud Coseno**:\n",
    "   - La similitud coseno se utiliza para medir la similitud entre dos vectores.\n",
    "   - Fórmula de la similitud coseno:\n",
    "     $$\n",
    "     \\text{similitud coseno} = \\frac{\\mathbf{A} \\cdot \\mathbf{B}}{\\|\\mathbf{A}\\| \\|\\mathbf{B}\\|}\n",
    "     $$\n",
    "     donde:\n",
    "     - **A** y **B** son los vectores de embedding de la respuesta y el texto del documento, respectivamente.\n",
    "     - **A · B** es el producto punto de los dos vectores.\n",
    "     - **||A|| ||B||** son las magnitudes (normas) de los vectores.\n",
    "\n",
    "3. **Determinación de Precisión**:\n",
    "   - Se define un umbral de similitud.\n",
    "   - Si la similitud coseno es mayor que este umbral, la respuesta se considera precisa; de lo contrario, se considera una alucinación.\n"
   ]
  },
  {
   "cell_type": "code",
   "execution_count": 32,
   "metadata": {},
   "outputs": [],
   "source": [
    "# Función para verificar la precisión de las respuestas\n",
    "def verificar_respuesta(pregunta, respuesta, contexto, embeddings, umbral_similitud=0.8):\n",
    "    try:\n",
    "        respuesta_embedding = embeddings.embed_query(respuesta)\n",
    "        contexto_embedding = embeddings.embed_query(contexto)\n",
    "        similitud = cosine_similarity([respuesta_embedding], [contexto_embedding])[0][0]\n",
    "        if similitud > umbral_similitud:\n",
    "            return \"Precisa\", similitud\n",
    "        else:\n",
    "            return \"Alucinación\", similitud\n",
    "    except Exception as e:\n",
    "        print(f\"Error al verificar la respuesta: {e}\")\n",
    "        return \"Error\", 0.0"
   ]
  },
  {
   "cell_type": "markdown",
   "metadata": {},
   "source": [
    "Verficamos las respuestas"
   ]
  },
  {
   "cell_type": "code",
   "execution_count": 33,
   "metadata": {},
   "outputs": [
    {
     "name": "stdout",
     "output_type": "stream",
     "text": [
      "Pregunta: ¿Cuál es el tema principal del documento?\n",
      "Respuesta: El tema principal del documento es cómo convertirse en un estudiante de calificaciones sobresalientes (Straight-A student) utilizando técnicas y estrategias efectivas para estudiar y aprender de manera más eficiente, sin necesidad de sacrificar la vida social o someterse a estrés excesivo. Se enfatiza en trabajar de manera más inteligente, no más dura, mediante la aplicación de un enfoque de trabajo real e intenso, conocido como \"deep work\".\n",
      "Precisión: Precisa\n",
      "Similitud: 0.8696368727228669\n",
      "\n",
      "Pregunta: ¿Qué datos específicos se mencionan en el segundo párrafo?\n",
      "Respuesta: En el segundo párrafo del resumen del libro \"How to Become a Straight-A Student\" de Cal Newport, se menciona que Newport estudió en Dartmouth y trabajó arduamente en su primer año, pero no logró los resultados deseados. Esto lo llevó a reevaluar sus métodos de aprendizaje y adoptar nuevas estrategias y trucos para optimizar su estudio. Además, se menciona que conoció a otros estudiantes con calificaciones sobresalientes a través de la sociedad de honor y aprendió cosas valiosas sobre lo que constituye a un estudiante bien preparado.\n",
      "Precisión: Precisa\n",
      "Similitud: 0.8733908170183422\n",
      "\n",
      "Pregunta: Proporcione un resumen del documento.\n",
      "Respuesta: El libro \"How to Become a Straight-A Student\" de Cal Newport ofrece un enfoque pragmático y ameno sobre cómo alcanzar el éxito académico en la universidad sin sacrificar la vida social. Basado en entrevistas con estudiantes de altas calificaciones, Newport descubre que el éxito no proviene de estudiar duro incesantemente, sino de trabajar de manera inteligente y eficiente. \n",
      "\n",
      "El autor distingue entre \"pseudo-trabajo\" y \"trabajo real\", destacando que la intensidad y el enfoque durante el estudio son más cruciales que la cantidad de tiempo dedicado. Propone una fórmula simple, W = T x I, donde \"I\" representa la intensidad del trabajo. La idea es maximizar la eficiencia para reducir el tiempo de estudio necesario.\n",
      "\n",
      "Newport también aborda el problema de la procrastinación, sugiriendo tácticas prácticas para manejarla en lugar de intentar eliminarla completamente. Además, ofrece estrategias específicas para mejorar el rendimiento en exámenes, la redacción de ensayos y la gestión eficaz del tiempo.\n",
      "\n",
      "El libro no solo busca mejorar las calificaciones, sino también fomentar una pasión por el aprendizaje y enseñar habilidades que pueden aplicarse más allá de la universidad. Newport enfatiza la importancia de la autodisciplina y el enfoque intenso, recursos valiosos en un mundo cada vez más distraído.\n",
      "Precisión: Precisa\n",
      "Similitud: 0.9033818066338093\n",
      "\n",
      "Pregunta: ¿Hay alguna información contradictoria en el texto?\n",
      "Respuesta: No, no hay información contradictoria en el texto proporcionado. El texto consistentemente promueve la idea de trabajar de manera más inteligente en lugar de más dura, utilizando técnicas eficaces de estudio y manejo del tiempo para lograr el éxito académico sin sacrificar el bienestar personal. Todos los consejos y estrategias presentados apoyan esta visión coherente.\n",
      "Precisión: Precisa\n",
      "Similitud: 0.803626541002434\n",
      "\n",
      "Pregunta: ¿Qué conclusiones se pueden extraer del documento?\n",
      "Respuesta: Del documento \"How to Become a Straight-A Student\" de Cal Newport, se pueden extraer varias conclusiones importantes sobre cómo alcanzar el éxito académico en la universidad sin sacrificar el bienestar personal. Aquí algunas de las claves principales:\n",
      "\n",
      "1. **Trabajar inteligentemente, no más duro**: Newport enfatiza la importancia de la intensidad y el enfoque en lugar de la cantidad de horas de estudio. Su fórmula W = T x I (Trabajo = Tiempo x Intensidad) sugiere que una mayor intensidad en períodos más cortos puede ser más efectiva que largas horas de estudio menos enfocadas.\n",
      "\n",
      "2. **Procrastinación como enemigo común**: Reconocer y aceptar la procrastinación es crucial. Newport ofrece estrategias para manejarla efectivamente, como mantener un diario de progreso y desarrollar una rutina diaria sólida que incorpore bloques de trabajo intenso.\n",
      "\n",
      "3. **La importancia de la preparación para exámenes y ensayos**: Ser proactivo y participativo durante el semestre, así como entender y aplicar técnicas de estudio efectivas, son fundamentales para realizar exámenes y escribir ensayos exitosos. Newport aconseja planificar, utilizar técnicas de aprendizaje distribuido y asegurarse de que los ensayos estén bien estructurados y revisados.\n",
      "\n",
      "4. **Equilibrio entre la vida académica y personal**: Newport rechaza la noción de que se debe sacrificar la vida personal por el éxito académico. Argumenta que es posible y esencial mantener un equilibrio saludable, lo que incluye tomar descansos y tener tiempo para el ocio.\n",
      "\n",
      "5. **El valor de la educación más allá de las calificaciones**: El libro impulsa a los estudiantes a ver la educación como una oportunidad para el crecimiento personal y profesional, no solo como un medio para obtener buenas calificaciones. Newport anima a los estudiantes a encontrar y explorar sus pasiones y a aplicar lo aprendido en situaciones del mundo real.\n",
      "\n",
      "En resumen, el documento proporciona un enfoque renovador y pragmático para lograr el éxito académico, destacando la importancia de la intensidad del estudio, el manejo de la procrastinación, la preparación efectiva para evaluaciones, el balance vida-trabajo y el valor intrínseco del aprendizaje y la educación.\n",
      "Precisión: Precisa\n",
      "Similitud: 0.8970421323630993\n",
      "\n"
     ]
    }
   ],
   "source": [
    "resultados = []\n",
    "\n",
    "for pregunta in preguntas:\n",
    "    respuesta = qa_chain.run({\"query\": pregunta})\n",
    "    precision, similitud = verificar_respuesta(pregunta, respuesta, documents[0].page_content, embeddings)\n",
    "    print(f\"Pregunta: {pregunta}\")\n",
    "    print(f\"Respuesta: {respuesta}\")\n",
    "    print(f\"Precisión: {precision}\")\n",
    "    print(f\"Similitud: {similitud}\\n\")\n",
    "    resultados.append((pregunta, respuesta, precision, similitud))"
   ]
  },
  {
   "cell_type": "code",
   "execution_count": 35,
   "metadata": {},
   "outputs": [
    {
     "data": {
      "image/png": "[encoded data removed]",
      "text/plain": [
       "<Figure size 1000x600 with 1 Axes>"
      ]
     },
     "metadata": {},
     "output_type": "display_data"
    }
   ],
   "source": [
    "preguntas = [r[0] for r in resultados]\n",
    "similitudes = [r[3] for r in resultados]\n",
    "\n",
    "plt.figure(figsize=(10, 6))\n",
    "bars = plt.barh(preguntas, similitudes, color='skyblue')\n",
    "plt.xlabel('Similitud coseno')\n",
    "plt.title('Similitud coseno de las respuestas a las preguntas')\n",
    "\n",
    "# Añadir etiquetas con los valores obtenidos para cada barra\n",
    "for bar, similitud in zip(bars, similitudes):\n",
    "    plt.text(bar.get_width() + 0.01, bar.get_y() + bar.get_height() / 2, f'{similitud:.2f}', \n",
    "             va='center', ha='left', fontsize=10, color='black')\n",
    "\n",
    "plt.show()\n"
   ]
  }
 ],
 "metadata": {
  "kernelspec": {
   "display_name": ".venv",
   "language": "python",
   "name": "python3"
  },
  "language_info": {
   "codemirror_mode": {
    "name": "ipython",
    "version": 3
   },
   "file_extension": ".py",
   "mimetype": "text/x-python",
   "name": "python",
   "nbconvert_exporter": "python",
   "pygments_lexer": "ipython3",
   "version": "3.12.0"
  }
 },
 "nbformat": 4,
 "nbformat_minor": 2
}
